{
 "cells": [
  {
   "cell_type": "code",
   "execution_count": 2,
   "metadata": {},
   "outputs": [],
   "source": [
    "from supabase_utils import get_client\n",
    "\n",
    "client = get_client()\n",
    "\n",
    "customers_table  = client.table('customer')"
   ]
  },
  {
   "cell_type": "code",
   "execution_count": 11,
   "metadata": {},
   "outputs": [
    {
     "data": {
      "text/plain": [
       "APIResponse[TypeVar](data=[], count=None)"
      ]
     },
     "execution_count": 11,
     "metadata": {},
     "output_type": "execute_result"
    }
   ],
   "source": [
    "response = (\n",
    "    customers_table\n",
    "        .select('*')\n",
    "        .execute()\n",
    ")\n",
    "response"
   ]
  },
  {
   "cell_type": "code",
   "execution_count": 13,
   "metadata": {},
   "outputs": [
    {
     "data": {
      "text/plain": [
       "APIResponse[TypeVar](data=[{'id': 'f0506b2e-d2a1-4614-b2f0-528ca72cfcf1', 'created_at': '2025-06-30T04:18:23.324452+00:00', 'email': 'ana@example.com', 'phone_number': None, 'family_name': None, 'given_name': 'Ana', 'gender': 'male', 'photo_url': None}], count=None)"
      ]
     },
     "execution_count": 13,
     "metadata": {},
     "output_type": "execute_result"
    }
   ],
   "source": [
    "\n",
    "response = (\n",
    "    customers_table\n",
    "        .delete()\n",
    "        .eq('id', 'f0506b2e-d2a1-4614-b2f0-528ca72cfcf1')\n",
    "        .execute()\n",
    ")\n",
    "\n",
    "response"
   ]
  }
 ],
 "metadata": {
  "kernelspec": {
   "display_name": ".venv",
   "language": "python",
   "name": "python3"
  },
  "language_info": {
   "codemirror_mode": {
    "name": "ipython",
    "version": 3
   },
   "file_extension": ".py",
   "mimetype": "text/x-python",
   "name": "python",
   "nbconvert_exporter": "python",
   "pygments_lexer": "ipython3",
   "version": "3.13.1"
  }
 },
 "nbformat": 4,
 "nbformat_minor": 2
}

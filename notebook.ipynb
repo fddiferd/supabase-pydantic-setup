{
 "cells": [
  {
   "cell_type": "code",
   "execution_count": 2,
   "metadata": {},
   "outputs": [],
   "source": [
    "from supabase_utils import get_client\n",
    "\n",
    "client = get_client()\n",
    "\n",
    "customers_table  = client.table('customer')"
   ]
  },
  {
   "cell_type": "markdown",
   "metadata": {},
   "source": [
    "# SELECT"
   ]
  },
  {
   "cell_type": "code",
   "execution_count": 14,
   "metadata": {},
   "outputs": [
    {
     "data": {
      "text/plain": [
       "APIResponse[TypeVar](data=[{'id': 'e2dbf5ce-1912-4854-a707-a076ed56604e', 'created_at': '2025-06-30T04:42:10.506507+00:00', 'email': 'ana@example.com', 'phone_number': None, 'family_name': None, 'given_name': 'Ana', 'gender': 'male', 'photo_url': None}], count=None)"
      ]
     },
     "execution_count": 14,
     "metadata": {},
     "output_type": "execute_result"
    }
   ],
   "source": [
    "response = (\n",
    "    customers_table\n",
    "        .select('*')\n",
    "        .execute()\n",
    ")\n",
    "response"
   ]
  },
  {
   "cell_type": "markdown",
   "metadata": {},
   "source": [
    "# DELETE"
   ]
  },
  {
   "cell_type": "code",
   "execution_count": 16,
   "metadata": {},
   "outputs": [
    {
     "data": {
      "text/plain": [
       "APIResponse[TypeVar](data=[{'id': 'e2dbf5ce-1912-4854-a707-a076ed56604e', 'created_at': '2025-06-30T04:42:10.506507+00:00', 'email': 'ana@example.com', 'phone_number': None, 'family_name': None, 'given_name': 'Ana', 'gender': 'male', 'photo_url': None}], count=None)"
      ]
     },
     "execution_count": 16,
     "metadata": {},
     "output_type": "execute_result"
    }
   ],
   "source": [
    "\n",
    "response = (\n",
    "    customers_table\n",
    "        .delete()\n",
    "        .eq('id', 'e2dbf5ce-1912-4854-a707-a076ed56604e')\n",
    "        .execute()\n",
    ")\n",
    "\n",
    "response"
   ]
  },
  {
   "cell_type": "markdown",
   "metadata": {},
   "source": [
    "# RAW SQL"
   ]
  },
  {
   "cell_type": "code",
   "execution_count": 15,
   "metadata": {},
   "outputs": [
    {
     "ename": "APIError",
     "evalue": "{'message': \"Could not find a relationship between 'customer' and 'forumCountries' in the schema cache\", 'code': 'PGRST200', 'hint': None, 'details': \"Searched for a foreign key relationship between 'customer' and 'forumCountries' in the schema 'public', but no matches were found.\"}",
     "output_type": "error",
     "traceback": [
      "\u001b[31m---------------------------------------------------------------------------\u001b[39m",
      "\u001b[31mAPIError\u001b[39m                                  Traceback (most recent call last)",
      "\u001b[36mCell\u001b[39m\u001b[36m \u001b[39m\u001b[32mIn[15]\u001b[39m\u001b[32m, line 11\u001b[39m\n\u001b[32m      1\u001b[39m rows = (\n\u001b[32m      2\u001b[39m     \u001b[43mcustomers_table\u001b[49m\n\u001b[32m      3\u001b[39m \u001b[43m        \u001b[49m\u001b[43m.\u001b[49m\u001b[43mselect\u001b[49m\u001b[43m(\u001b[49m\n\u001b[32m      4\u001b[39m \u001b[38;5;250;43m            \u001b[39;49m\u001b[33;43;03m\"\"\"\u001b[39;49;00m\n\u001b[32m      5\u001b[39m \u001b[33;43;03m            *,\u001b[39;49;00m\n\u001b[32m      6\u001b[39m \u001b[33;43;03m            country:forumCountries(name),\u001b[39;49;00m\n\u001b[32m      7\u001b[39m \u001b[33;43;03m            state:forumStates(name),\u001b[39;49;00m\n\u001b[32m      8\u001b[39m \u001b[33;43;03m            city:forumCities(name)\u001b[39;49;00m\n\u001b[32m      9\u001b[39m \u001b[33;43;03m            \"\"\"\u001b[39;49;00m\n\u001b[32m     10\u001b[39m \u001b[43m        \u001b[49m\u001b[43m)\u001b[49m\n\u001b[32m---> \u001b[39m\u001b[32m11\u001b[39m \u001b[43m        \u001b[49m\u001b[43m.\u001b[49m\u001b[43mexecute\u001b[49m\u001b[43m(\u001b[49m\u001b[43m)\u001b[49m\n\u001b[32m     12\u001b[39m )\n\u001b[32m     14\u001b[39m \u001b[38;5;28mprint\u001b[39m(rows.data)\n",
      "\u001b[36mFile \u001b[39m\u001b[32m~/Desktop/Supabase Setup/.venv/lib/python3.13/site-packages/postgrest/_sync/request_builder.py:78\u001b[39m, in \u001b[36mSyncQueryRequestBuilder.execute\u001b[39m\u001b[34m(self)\u001b[39m\n\u001b[32m     76\u001b[39m     \u001b[38;5;28;01melse\u001b[39;00m:\n\u001b[32m     77\u001b[39m         json_obj = model_validate_json(APIErrorFromJSON, r.content)\n\u001b[32m---> \u001b[39m\u001b[32m78\u001b[39m         \u001b[38;5;28;01mraise\u001b[39;00m APIError(\u001b[38;5;28mdict\u001b[39m(json_obj))\n\u001b[32m     79\u001b[39m \u001b[38;5;28;01mexcept\u001b[39;00m ValidationError \u001b[38;5;28;01mas\u001b[39;00m e:\n\u001b[32m     80\u001b[39m     \u001b[38;5;28;01mraise\u001b[39;00m APIError(generate_default_error_message(r))\n",
      "\u001b[31mAPIError\u001b[39m: {'message': \"Could not find a relationship between 'customer' and 'forumCountries' in the schema cache\", 'code': 'PGRST200', 'hint': None, 'details': \"Searched for a foreign key relationship between 'customer' and 'forumCountries' in the schema 'public', but no matches were found.\"}"
     ]
    }
   ],
   "source": [
    "rows = (\n",
    "    customers_table\n",
    "        .select(\n",
    "            \"\"\"\n",
    "            *,\n",
    "            country:forumCountries(name),\n",
    "            state:forumStates(name),\n",
    "            city:forumCities(name)\n",
    "            \"\"\"\n",
    "        )\n",
    "        .execute()\n",
    ")\n",
    "\n",
    "print(rows.data)"
   ]
  },
  {
   "cell_type": "markdown",
   "metadata": {},
   "source": []
  }
 ],
 "metadata": {
  "kernelspec": {
   "display_name": ".venv",
   "language": "python",
   "name": "python3"
  },
  "language_info": {
   "codemirror_mode": {
    "name": "ipython",
    "version": 3
   },
   "file_extension": ".py",
   "mimetype": "text/x-python",
   "name": "python",
   "nbconvert_exporter": "python",
   "pygments_lexer": "ipython3",
   "version": "3.13.1"
  }
 },
 "nbformat": 4,
 "nbformat_minor": 2
}
